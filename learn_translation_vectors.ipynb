{
 "cells": [
  {
   "cell_type": "code",
   "execution_count": 94,
   "metadata": {},
   "outputs": [],
   "source": [
    "import torch\n",
    "import torch.nn.functional as F\n",
    "torch.set_printoptions(precision=None, threshold=None, edgeitems=5, linewidth=120, profile='short', sci_mode=False)\n",
    "\n",
    "from torch_geometric.nn import GCNConv\n",
    "from torch_geometric.data import Data\n",
    "from torch_geometric.utils.convert import from_networkx\n",
    "import networkx as nx\n"
   ]
  },
  {
   "cell_type": "code",
   "execution_count": 95,
   "metadata": {},
   "outputs": [
    {
     "name": "stdout",
     "output_type": "stream",
     "text": [
      "Graph with 575 nodes and 574 edges\n"
     ]
    }
   ],
   "source": [
    "nx_graph = nx.read_gpickle(\"data/pickles/nx_road_graph.pickle\")\n",
    "print(nx_graph)"
   ]
  },
  {
   "cell_type": "code",
   "execution_count": 105,
   "metadata": {},
   "outputs": [
    {
     "data": {
      "image/png": "[encoded data removed]",
      "text/plain": [
       "<Figure size 720x360 with 1 Axes>"
      ]
     },
     "metadata": {},
     "output_type": "display_data"
    }
   ],
   "source": [
    "import matplotlib.pyplot as plt\n",
    "\n",
    "_, ax = plt.subplots(figsize=(10, 5))\n",
    "\n",
    "nx.draw(\n",
    "    G=nx_graph,\n",
    "    pos={n: nx_graph.nodes[n]['coords'] for n in nx_graph.nodes},\n",
    "    ax=ax,\n",
    "    width=0.25,\n",
    "    node_size=1,\n",
    "    with_labels=False\n",
    "    )"
   ]
  },
  {
   "cell_type": "code",
   "execution_count": 97,
   "metadata": {},
   "outputs": [
    {
     "data": {
      "text/plain": [
       "Data(x=[575, 8], edge_index=[2, 1148], y=[575, 2], coords=[575, 2], transl=[575, 2], props=[575, 9], weight=[1148])"
      ]
     },
     "execution_count": 97,
     "metadata": {},
     "output_type": "execute_result"
    }
   ],
   "source": [
    "torch_graph = from_networkx(nx_graph)\n",
    "torch_graph"
   ]
  },
  {
   "cell_type": "code",
   "execution_count": 98,
   "metadata": {},
   "outputs": [
    {
     "data": {
      "text/plain": [
       "tensor([[2677769.79, 1247077.91,     2.00,   200.00,    11.00,     9.19,     2.00,     0.00,     0.00],\n",
       "        [2677765.02, 1247085.77,     2.00,   200.00,    11.00,     9.19,     2.00,     0.00,     0.00],\n",
       "        [2677783.55, 1247086.94,     2.00,   200.00,    11.00,   171.90,    12.00,     0.00,     0.00],\n",
       "        [2677798.60, 1247095.70,     2.00,   200.00,    11.00,   171.90,    12.00,     0.00,     0.00],\n",
       "        [2677814.88, 1247105.47,     2.00,   200.00,    11.00,   171.90,    12.00,     0.00,     0.00],\n",
       "        ...,\n",
       "        [2679240.39, 1245285.77,     2.00,   200.00,    11.00,    64.05,     7.00,     0.00,     0.00],\n",
       "        [2679233.25, 1245297.83,     2.00,   200.00,    11.00,    64.05,     7.00,     0.00,     0.00],\n",
       "        [2679229.12, 1245303.71,     2.00,   200.00,    11.00,    64.05,     7.00,     0.00,     0.00],\n",
       "        [2679224.52, 1245308.31,     2.00,   200.00,    11.00,    64.05,     7.00,     0.00,     0.00],\n",
       "        [2679216.74, 1245313.23,     2.00,   200.00,    11.00,    64.05,     7.00,     0.00,     0.00]],\n",
       "       dtype=torch.float64)"
      ]
     },
     "execution_count": 98,
     "metadata": {},
     "output_type": "execute_result"
    }
   ],
   "source": [
    "torch_graph['props']"
   ]
  },
  {
   "cell_type": "code",
   "execution_count": 99,
   "metadata": {},
   "outputs": [
    {
     "data": {
      "text/plain": [
       "8"
      ]
     },
     "execution_count": 99,
     "metadata": {},
     "output_type": "execute_result"
    }
   ],
   "source": [
    "torch_graph.num_node_features\n"
   ]
  },
  {
   "cell_type": "code",
   "execution_count": 100,
   "metadata": {},
   "outputs": [
    {
     "name": "stdout",
     "output_type": "stream",
     "text": [
      "======================\n",
      "Number of nodes: 575\n",
      "Number of edges: 1148\n",
      "Number of node features: 8\n",
      "Number of edge features: 0\n",
      "Average node degree: 2.00\n",
      "Contains isolated nodes: False\n",
      "Contains self-loops: False\n",
      "Is undirected: True\n",
      "======================\n"
     ]
    }
   ],
   "source": [
    "print('======================')\n",
    "print(f'Number of nodes: {torch_graph.num_nodes}')\n",
    "print(f'Number of edges: {torch_graph.num_edges}')\n",
    "print(f'Number of node features: {torch_graph.num_node_features}')\n",
    "print(f'Number of edge features: {torch_graph.num_edge_features}')\n",
    "print(f'Average node degree: {torch_graph.num_edges / torch_graph.num_nodes:.2f}')\n",
    "print(f'Contains isolated nodes: {torch_graph.has_isolated_nodes()}')\n",
    "print(f'Contains self-loops: {torch_graph.has_self_loops()}')\n",
    "print(f'Is undirected: {torch_graph.is_undirected()}')\n",
    "print('======================')"
   ]
  },
  {
   "cell_type": "code",
   "execution_count": 101,
   "metadata": {},
   "outputs": [],
   "source": [
    "class GCN(torch.nn.Module):\n",
    "    def __init__(self):\n",
    "        super().__init__()\n",
    "        self.conv1 = GCNConv(in_channels=torch_graph.num_node_features, out_channels=16)\n",
    "        self.conv2 = GCNConv(in_channels=16, out_channels=2)\n",
    "\n",
    "    def forward(self, data):\n",
    "        x, edge_index = data.x.type(torch.double), data.edge_index.type(torch.double)\n",
    "\n",
    "        x = self.conv1(x, edge_index)\n",
    "        x = F.relu(x)\n",
    "        x = F.dropout(x, training=self.training)\n",
    "        x = self.conv2(x, edge_index)\n",
    "\n",
    "        return x"
   ]
  },
  {
   "cell_type": "code",
   "execution_count": 102,
   "metadata": {},
   "outputs": [],
   "source": [
    "device = torch.device('cuda' if torch.cuda.is_available() else 'cpu')\n",
    "model = GCN().to(device)\n",
    "data = torch_graph.to(device)\n",
    "optimizer = torch.optim.Adam(model.parameters(), lr=0.01, weight_decay=5e-4)"
   ]
  },
  {
   "cell_type": "code",
   "execution_count": null,
   "metadata": {},
   "outputs": [],
   "source": [
    "model.train()\n",
    "for epoch in range(200):\n",
    "    optimizer.zero_grad()\n",
    "    out = model(data)\n",
    "    loss = F.mse_loss(out[data.train_mask], data.y[data.train_mask])\n",
    "    loss.backward()\n",
    "    optimizer.step()"
   ]
  }
 ],
 "metadata": {
  "interpreter": {
   "hash": "1990ffea95c28a0da7d348ffd8828ceb6f7452d4a084a6e9b3667ae6342ab6f8"
  },
  "kernelspec": {
   "display_name": "Python 3.10.4 ('pytorch-geometric')",
   "language": "python",
   "name": "python3"
  },
  "language_info": {
   "codemirror_mode": {
    "name": "ipython",
    "version": 3
   },
   "file_extension": ".py",
   "mimetype": "text/x-python",
   "name": "python",
   "nbconvert_exporter": "python",
   "pygments_lexer": "ipython3",
   "version": "3.10.4"
  },
  "orig_nbformat": 4
 },
 "nbformat": 4,
 "nbformat_minor": 2
}
