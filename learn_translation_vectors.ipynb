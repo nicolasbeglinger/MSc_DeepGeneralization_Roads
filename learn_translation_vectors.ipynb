{
 "cells": [
  {
   "cell_type": "code",
   "execution_count": 94,
   "metadata": {},
   "outputs": [],
   "source": [
    "import torch\n",
    "import torch.nn.functional as F\n",
    "torch.set_printoptions(precision=None, threshold=None, edgeitems=5, linewidth=120, profile='short', sci_mode=False)\n",
    "\n",
    "from torch_geometric.nn import GCNConv\n",
    "from torch_geometric.data import Data\n",
    "from torch_geometric.utils.convert import from_networkx\n",
    "import networkx as nx\n"
   ]
  },
  {
   "cell_type": "code",
   "execution_count": 95,
   "metadata": {},
   "outputs": [
    {
     "name": "stdout",
     "output_type": "stream",
     "text": [
      "Graph with 575 nodes and 574 edges\n"
     ]
    }
   ],
   "source": [
    "nx_graph = nx.read_gpickle(\"data/pickles/nx_road_graph.pickle\")\n",
    "print(nx_graph)"
   ]
  },
  {
   "cell_type": "code",
   "execution_count": 96,
   "metadata": {},
   "outputs": [
    {
     "data": {
      "image/png": "[encoded data removed]",
      "text/plain": [
       "<Figure size 720x360 with 1 Axes>"
      ]
     },
     "metadata": {},
     "output_type": "display_data"
    }
   ],
   "source": [
    "import matplotlib.pyplot as plt\n",
    "\n",
    "plt.figure(figsize=(10, 5))\n",
    "nx.draw(nx_graph,  {n: nx_graph.nodes[n]['coords'] for n in nx_graph.nodes}, width=0.25, node_size=1, with_labels=False)"
   ]
  },
  {
   "cell_type": "code",
   "execution_count": 97,
   "metadata": {},
   "outputs": [
    {
     "data": {
      "text/plain": [
       "Data(x=[575, 8], edge_index=[2, 1148], y=[575, 2], coords=[575, 2], transl=[575, 2], props=[575, 9], weight=[1148])"
      ]
     },
     "execution_count": 97,
     "metadata": {},
     "output_type": "execute_result"
    }
   ],
   "source": [
    "torch_graph = from_networkx(nx_graph)\n",
    "torch_graph"
   ]
  },
  {
   "cell_type": "code",
   "execution_count": 98,
   "metadata": {},
   "outputs": [
    {
     "data": {
      "text/plain": [
       "tensor([[2677769.79, 1247077.91,     2.00,   200.00,    11.00,     9.19,     2.00,     0.00,     0.00],\n",
       "        [2677765.02, 1247085.77,     2.00,   200.00,    11.00,     9.19,     2.00,     0.00,     0.00],\n",
       "        [2677783.55, 1247086.94,     2.00,   200.00,    11.00,   171.90,    12.00,     0.00,     0.00],\n",
       "        [2677798.60, 1247095.70,     2.00,   200.00,    11.00,   171.90,    12.00,     0.00,     0.00],\n",
       "        [2677814.88, 1247105.47,     2.00,   200.00,    11.00,   171.90,    12.00,     0.00,     0.00],\n",
       "        ...,\n",
       "        [2679240.39, 1245285.77,     2.00,   200.00,    11.00,    64.05,     7.00,     0.00,     0.00],\n",
       "        [2679233.25, 1245297.83,     2.00,   200.00,    11.00,    64.05,     7.00,     0.00,     0.00],\n",
       "        [2679229.12, 1245303.71,     2.00,   200.00,    11.00,    64.05,     7.00,     0.00,     0.00],\n",
       "        [2679224.52, 1245308.31,     2.00,   200.00,    11.00,    64.05,     7.00,     0.00,     0.00],\n",
       "        [2679216.74, 1245313.23,     2.00,   200.00,    11.00,    64.05,     7.00,     0.00,     0.00]],\n",
       "       dtype=torch.float64)"
      ]
     },
     "execution_count": 98,
     "metadata": {},
     "output_type": "execute_result"
    }
   ],
   "source": [
    "torch_graph['props']"
   ]
  },
  {
   "cell_type": "code",
   "execution_count": 99,
   "metadata": {},
   "outputs": [
    {
     "data": {
      "text/plain": [
       "8"
      ]
     },
     "execution_count": 99,
     "metadata": {},
     "output_type": "execute_result"
    }
   ],
   "source": [
    "torch_graph.num_node_features\n"
   ]
  },
  {
   "cell_type": "code",
   "execution_count": 100,
   "metadata": {},
   "outputs": [
    {
     "name": "stdout",
     "output_type": "stream",
     "text": [
      "======================\n",
      "Number of nodes: 575\n",
      "Number of edges: 1148\n",
      "Number of node features: 8\n",
      "Number of edge features: 0\n",
      "Average node degree: 2.00\n",
      "Contains isolated nodes: False\n",
      "Contains self-loops: False\n",
      "Is undirected: True\n",
      "======================\n"
     ]
    }
   ],
   "source": [
    "print('======================')\n",
    "print(f'Number of nodes: {torch_graph.num_nodes}')\n",
    "print(f'Number of edges: {torch_graph.num_edges}')\n",
    "print(f'Number of node features: {torch_graph.num_node_features}')\n",
    "print(f'Number of edge features: {torch_graph.num_edge_features}')\n",
    "print(f'Average node degree: {torch_graph.num_edges / torch_graph.num_nodes:.2f}')\n",
    "print(f'Contains isolated nodes: {torch_graph.has_isolated_nodes()}')\n",
    "print(f'Contains self-loops: {torch_graph.has_self_loops()}')\n",
    "print(f'Is undirected: {torch_graph.is_undirected()}')\n",
    "print('======================')"
   ]
  },
  {
   "cell_type": "code",
   "execution_count": 101,
   "metadata": {},
   "outputs": [],
   "source": [
    "class GCN(torch.nn.Module):\n",
    "    def __init__(self):\n",
    "        super().__init__()\n",
    "        self.conv1 = GCNConv(in_channels=torch_graph.num_node_features, out_channels=16)\n",
    "        self.conv2 = GCNConv(in_channels=16, out_channels=2)\n",
    "\n",
    "    def forward(self, data):\n",
    "        x, edge_index = data.x.type(torch.double), data.edge_index.type(torch.double)\n",
    "\n",
    "        x = self.conv1(x, edge_index)\n",
    "        x = F.relu(x)\n",
    "        x = F.dropout(x, training=self.training)\n",
    "        x = self.conv2(x, edge_index)\n",
    "\n",
    "        return x"
   ]
  },
  {
   "cell_type": "code",
   "execution_count": 102,
   "metadata": {},
   "outputs": [],
   "source": [
    "device = torch.device('cuda' if torch.cuda.is_available() else 'cpu')\n",
    "model = GCN().to(device)\n",
    "data = torch_graph.to(device)\n",
    "optimizer = torch.optim.Adam(model.parameters(), lr=0.01, weight_decay=5e-4)"
   ]
  },
  {
   "cell_type": "code",
   "execution_count": 103,
   "metadata": {},
   "outputs": [
    {
     "ename": "IndexError",
     "evalue": "tensors used as indices must be long, byte or bool tensors",
     "output_type": "error",
     "traceback": [
      "\u001b[0;31m---------------------------------------------------------------------------\u001b[0m",
      "\u001b[0;31mIndexError\u001b[0m                                Traceback (most recent call last)",
      "\u001b[1;32m/Users/nicibe/Desktop/Studium/MasterThesis/msc_coding/learn_translation_vectors.ipynb Cell 10'\u001b[0m in \u001b[0;36m<cell line: 2>\u001b[0;34m()\u001b[0m\n\u001b[1;32m      <a href='vscode-notebook-cell:/Users/nicibe/Desktop/Studium/MasterThesis/msc_coding/learn_translation_vectors.ipynb#ch0000010?line=1'>2</a>\u001b[0m \u001b[39mfor\u001b[39;00m epoch \u001b[39min\u001b[39;00m \u001b[39mrange\u001b[39m(\u001b[39m200\u001b[39m):\n\u001b[1;32m      <a href='vscode-notebook-cell:/Users/nicibe/Desktop/Studium/MasterThesis/msc_coding/learn_translation_vectors.ipynb#ch0000010?line=2'>3</a>\u001b[0m     optimizer\u001b[39m.\u001b[39mzero_grad()\n\u001b[0;32m----> <a href='vscode-notebook-cell:/Users/nicibe/Desktop/Studium/MasterThesis/msc_coding/learn_translation_vectors.ipynb#ch0000010?line=3'>4</a>\u001b[0m     out \u001b[39m=\u001b[39m model(data)\n\u001b[1;32m      <a href='vscode-notebook-cell:/Users/nicibe/Desktop/Studium/MasterThesis/msc_coding/learn_translation_vectors.ipynb#ch0000010?line=4'>5</a>\u001b[0m     loss \u001b[39m=\u001b[39m F\u001b[39m.\u001b[39mmse_loss(out[data\u001b[39m.\u001b[39mtrain_mask], data\u001b[39m.\u001b[39my[data\u001b[39m.\u001b[39mtrain_mask])\n\u001b[1;32m      <a href='vscode-notebook-cell:/Users/nicibe/Desktop/Studium/MasterThesis/msc_coding/learn_translation_vectors.ipynb#ch0000010?line=5'>6</a>\u001b[0m     loss\u001b[39m.\u001b[39mbackward()\n",
      "File \u001b[0;32m~/miniforge3/envs/pytorch-geometric/lib/python3.10/site-packages/torch/nn/modules/module.py:1110\u001b[0m, in \u001b[0;36mModule._call_impl\u001b[0;34m(self, *input, **kwargs)\u001b[0m\n\u001b[1;32m   <a href='file:///Users/nicibe/miniforge3/envs/pytorch-geometric/lib/python3.10/site-packages/torch/nn/modules/module.py?line=1105'>1106</a>\u001b[0m \u001b[39m# If we don't have any hooks, we want to skip the rest of the logic in\u001b[39;00m\n\u001b[1;32m   <a href='file:///Users/nicibe/miniforge3/envs/pytorch-geometric/lib/python3.10/site-packages/torch/nn/modules/module.py?line=1106'>1107</a>\u001b[0m \u001b[39m# this function, and just call forward.\u001b[39;00m\n\u001b[1;32m   <a href='file:///Users/nicibe/miniforge3/envs/pytorch-geometric/lib/python3.10/site-packages/torch/nn/modules/module.py?line=1107'>1108</a>\u001b[0m \u001b[39mif\u001b[39;00m \u001b[39mnot\u001b[39;00m (\u001b[39mself\u001b[39m\u001b[39m.\u001b[39m_backward_hooks \u001b[39mor\u001b[39;00m \u001b[39mself\u001b[39m\u001b[39m.\u001b[39m_forward_hooks \u001b[39mor\u001b[39;00m \u001b[39mself\u001b[39m\u001b[39m.\u001b[39m_forward_pre_hooks \u001b[39mor\u001b[39;00m _global_backward_hooks\n\u001b[1;32m   <a href='file:///Users/nicibe/miniforge3/envs/pytorch-geometric/lib/python3.10/site-packages/torch/nn/modules/module.py?line=1108'>1109</a>\u001b[0m         \u001b[39mor\u001b[39;00m _global_forward_hooks \u001b[39mor\u001b[39;00m _global_forward_pre_hooks):\n\u001b[0;32m-> <a href='file:///Users/nicibe/miniforge3/envs/pytorch-geometric/lib/python3.10/site-packages/torch/nn/modules/module.py?line=1109'>1110</a>\u001b[0m     \u001b[39mreturn\u001b[39;00m forward_call(\u001b[39m*\u001b[39;49m\u001b[39minput\u001b[39;49m, \u001b[39m*\u001b[39;49m\u001b[39m*\u001b[39;49mkwargs)\n\u001b[1;32m   <a href='file:///Users/nicibe/miniforge3/envs/pytorch-geometric/lib/python3.10/site-packages/torch/nn/modules/module.py?line=1110'>1111</a>\u001b[0m \u001b[39m# Do not call functions when jit is used\u001b[39;00m\n\u001b[1;32m   <a href='file:///Users/nicibe/miniforge3/envs/pytorch-geometric/lib/python3.10/site-packages/torch/nn/modules/module.py?line=1111'>1112</a>\u001b[0m full_backward_hooks, non_full_backward_hooks \u001b[39m=\u001b[39m [], []\n",
      "\u001b[1;32m/Users/nicibe/Desktop/Studium/MasterThesis/msc_coding/learn_translation_vectors.ipynb Cell 8'\u001b[0m in \u001b[0;36mGCN.forward\u001b[0;34m(self, data)\u001b[0m\n\u001b[1;32m      <a href='vscode-notebook-cell:/Users/nicibe/Desktop/Studium/MasterThesis/msc_coding/learn_translation_vectors.ipynb#ch0000005?line=6'>7</a>\u001b[0m \u001b[39mdef\u001b[39;00m \u001b[39mforward\u001b[39m(\u001b[39mself\u001b[39m, data):\n\u001b[1;32m      <a href='vscode-notebook-cell:/Users/nicibe/Desktop/Studium/MasterThesis/msc_coding/learn_translation_vectors.ipynb#ch0000005?line=7'>8</a>\u001b[0m     x, edge_index \u001b[39m=\u001b[39m data\u001b[39m.\u001b[39mx\u001b[39m.\u001b[39mtype(torch\u001b[39m.\u001b[39mdouble), data\u001b[39m.\u001b[39medge_index\u001b[39m.\u001b[39mtype(torch\u001b[39m.\u001b[39mdouble)\n\u001b[0;32m---> <a href='vscode-notebook-cell:/Users/nicibe/Desktop/Studium/MasterThesis/msc_coding/learn_translation_vectors.ipynb#ch0000005?line=9'>10</a>\u001b[0m     x \u001b[39m=\u001b[39m \u001b[39mself\u001b[39;49m\u001b[39m.\u001b[39;49mconv1(x, edge_index)\n\u001b[1;32m     <a href='vscode-notebook-cell:/Users/nicibe/Desktop/Studium/MasterThesis/msc_coding/learn_translation_vectors.ipynb#ch0000005?line=10'>11</a>\u001b[0m     x \u001b[39m=\u001b[39m F\u001b[39m.\u001b[39mrelu(x)\n\u001b[1;32m     <a href='vscode-notebook-cell:/Users/nicibe/Desktop/Studium/MasterThesis/msc_coding/learn_translation_vectors.ipynb#ch0000005?line=11'>12</a>\u001b[0m     x \u001b[39m=\u001b[39m F\u001b[39m.\u001b[39mdropout(x, training\u001b[39m=\u001b[39m\u001b[39mself\u001b[39m\u001b[39m.\u001b[39mtraining)\n",
      "File \u001b[0;32m~/miniforge3/envs/pytorch-geometric/lib/python3.10/site-packages/torch/nn/modules/module.py:1110\u001b[0m, in \u001b[0;36mModule._call_impl\u001b[0;34m(self, *input, **kwargs)\u001b[0m\n\u001b[1;32m   <a href='file:///Users/nicibe/miniforge3/envs/pytorch-geometric/lib/python3.10/site-packages/torch/nn/modules/module.py?line=1105'>1106</a>\u001b[0m \u001b[39m# If we don't have any hooks, we want to skip the rest of the logic in\u001b[39;00m\n\u001b[1;32m   <a href='file:///Users/nicibe/miniforge3/envs/pytorch-geometric/lib/python3.10/site-packages/torch/nn/modules/module.py?line=1106'>1107</a>\u001b[0m \u001b[39m# this function, and just call forward.\u001b[39;00m\n\u001b[1;32m   <a href='file:///Users/nicibe/miniforge3/envs/pytorch-geometric/lib/python3.10/site-packages/torch/nn/modules/module.py?line=1107'>1108</a>\u001b[0m \u001b[39mif\u001b[39;00m \u001b[39mnot\u001b[39;00m (\u001b[39mself\u001b[39m\u001b[39m.\u001b[39m_backward_hooks \u001b[39mor\u001b[39;00m \u001b[39mself\u001b[39m\u001b[39m.\u001b[39m_forward_hooks \u001b[39mor\u001b[39;00m \u001b[39mself\u001b[39m\u001b[39m.\u001b[39m_forward_pre_hooks \u001b[39mor\u001b[39;00m _global_backward_hooks\n\u001b[1;32m   <a href='file:///Users/nicibe/miniforge3/envs/pytorch-geometric/lib/python3.10/site-packages/torch/nn/modules/module.py?line=1108'>1109</a>\u001b[0m         \u001b[39mor\u001b[39;00m _global_forward_hooks \u001b[39mor\u001b[39;00m _global_forward_pre_hooks):\n\u001b[0;32m-> <a href='file:///Users/nicibe/miniforge3/envs/pytorch-geometric/lib/python3.10/site-packages/torch/nn/modules/module.py?line=1109'>1110</a>\u001b[0m     \u001b[39mreturn\u001b[39;00m forward_call(\u001b[39m*\u001b[39;49m\u001b[39minput\u001b[39;49m, \u001b[39m*\u001b[39;49m\u001b[39m*\u001b[39;49mkwargs)\n\u001b[1;32m   <a href='file:///Users/nicibe/miniforge3/envs/pytorch-geometric/lib/python3.10/site-packages/torch/nn/modules/module.py?line=1110'>1111</a>\u001b[0m \u001b[39m# Do not call functions when jit is used\u001b[39;00m\n\u001b[1;32m   <a href='file:///Users/nicibe/miniforge3/envs/pytorch-geometric/lib/python3.10/site-packages/torch/nn/modules/module.py?line=1111'>1112</a>\u001b[0m full_backward_hooks, non_full_backward_hooks \u001b[39m=\u001b[39m [], []\n",
      "File \u001b[0;32m~/miniforge3/envs/pytorch-geometric/lib/python3.10/site-packages/torch_geometric/nn/conv/gcn_conv.py:172\u001b[0m, in \u001b[0;36mGCNConv.forward\u001b[0;34m(self, x, edge_index, edge_weight)\u001b[0m\n\u001b[1;32m    <a href='file:///Users/nicibe/miniforge3/envs/pytorch-geometric/lib/python3.10/site-packages/torch_geometric/nn/conv/gcn_conv.py?line=169'>170</a>\u001b[0m cache \u001b[39m=\u001b[39m \u001b[39mself\u001b[39m\u001b[39m.\u001b[39m_cached_edge_index\n\u001b[1;32m    <a href='file:///Users/nicibe/miniforge3/envs/pytorch-geometric/lib/python3.10/site-packages/torch_geometric/nn/conv/gcn_conv.py?line=170'>171</a>\u001b[0m \u001b[39mif\u001b[39;00m cache \u001b[39mis\u001b[39;00m \u001b[39mNone\u001b[39;00m:\n\u001b[0;32m--> <a href='file:///Users/nicibe/miniforge3/envs/pytorch-geometric/lib/python3.10/site-packages/torch_geometric/nn/conv/gcn_conv.py?line=171'>172</a>\u001b[0m     edge_index, edge_weight \u001b[39m=\u001b[39m gcn_norm(  \u001b[39m# yapf: disable\u001b[39;49;00m\n\u001b[1;32m    <a href='file:///Users/nicibe/miniforge3/envs/pytorch-geometric/lib/python3.10/site-packages/torch_geometric/nn/conv/gcn_conv.py?line=172'>173</a>\u001b[0m         edge_index, edge_weight, x\u001b[39m.\u001b[39;49msize(\u001b[39mself\u001b[39;49m\u001b[39m.\u001b[39;49mnode_dim),\n\u001b[1;32m    <a href='file:///Users/nicibe/miniforge3/envs/pytorch-geometric/lib/python3.10/site-packages/torch_geometric/nn/conv/gcn_conv.py?line=173'>174</a>\u001b[0m         \u001b[39mself\u001b[39;49m\u001b[39m.\u001b[39;49mimproved, \u001b[39mself\u001b[39;49m\u001b[39m.\u001b[39;49madd_self_loops)\n\u001b[1;32m    <a href='file:///Users/nicibe/miniforge3/envs/pytorch-geometric/lib/python3.10/site-packages/torch_geometric/nn/conv/gcn_conv.py?line=174'>175</a>\u001b[0m     \u001b[39mif\u001b[39;00m \u001b[39mself\u001b[39m\u001b[39m.\u001b[39mcached:\n\u001b[1;32m    <a href='file:///Users/nicibe/miniforge3/envs/pytorch-geometric/lib/python3.10/site-packages/torch_geometric/nn/conv/gcn_conv.py?line=175'>176</a>\u001b[0m         \u001b[39mself\u001b[39m\u001b[39m.\u001b[39m_cached_edge_index \u001b[39m=\u001b[39m (edge_index, edge_weight)\n",
      "File \u001b[0;32m~/miniforge3/envs/pytorch-geometric/lib/python3.10/site-packages/torch_geometric/nn/conv/gcn_conv.py:58\u001b[0m, in \u001b[0;36mgcn_norm\u001b[0;34m(edge_index, edge_weight, num_nodes, improved, add_self_loops, dtype)\u001b[0m\n\u001b[1;32m     <a href='file:///Users/nicibe/miniforge3/envs/pytorch-geometric/lib/python3.10/site-packages/torch_geometric/nn/conv/gcn_conv.py?line=53'>54</a>\u001b[0m     edge_weight \u001b[39m=\u001b[39m torch\u001b[39m.\u001b[39mones((edge_index\u001b[39m.\u001b[39msize(\u001b[39m1\u001b[39m), ), dtype\u001b[39m=\u001b[39mdtype,\n\u001b[1;32m     <a href='file:///Users/nicibe/miniforge3/envs/pytorch-geometric/lib/python3.10/site-packages/torch_geometric/nn/conv/gcn_conv.py?line=54'>55</a>\u001b[0m                              device\u001b[39m=\u001b[39medge_index\u001b[39m.\u001b[39mdevice)\n\u001b[1;32m     <a href='file:///Users/nicibe/miniforge3/envs/pytorch-geometric/lib/python3.10/site-packages/torch_geometric/nn/conv/gcn_conv.py?line=56'>57</a>\u001b[0m \u001b[39mif\u001b[39;00m add_self_loops:\n\u001b[0;32m---> <a href='file:///Users/nicibe/miniforge3/envs/pytorch-geometric/lib/python3.10/site-packages/torch_geometric/nn/conv/gcn_conv.py?line=57'>58</a>\u001b[0m     edge_index, tmp_edge_weight \u001b[39m=\u001b[39m add_remaining_self_loops(\n\u001b[1;32m     <a href='file:///Users/nicibe/miniforge3/envs/pytorch-geometric/lib/python3.10/site-packages/torch_geometric/nn/conv/gcn_conv.py?line=58'>59</a>\u001b[0m         edge_index, edge_weight, fill_value, num_nodes)\n\u001b[1;32m     <a href='file:///Users/nicibe/miniforge3/envs/pytorch-geometric/lib/python3.10/site-packages/torch_geometric/nn/conv/gcn_conv.py?line=59'>60</a>\u001b[0m     \u001b[39massert\u001b[39;00m tmp_edge_weight \u001b[39mis\u001b[39;00m \u001b[39mnot\u001b[39;00m \u001b[39mNone\u001b[39;00m\n\u001b[1;32m     <a href='file:///Users/nicibe/miniforge3/envs/pytorch-geometric/lib/python3.10/site-packages/torch_geometric/nn/conv/gcn_conv.py?line=60'>61</a>\u001b[0m     edge_weight \u001b[39m=\u001b[39m tmp_edge_weight\n",
      "File \u001b[0;32m~/miniforge3/envs/pytorch-geometric/lib/python3.10/site-packages/torch_geometric/utils/loop.py:224\u001b[0m, in \u001b[0;36madd_remaining_self_loops\u001b[0;34m(edge_index, edge_attr, fill_value, num_nodes)\u001b[0m\n\u001b[1;32m    <a href='file:///Users/nicibe/miniforge3/envs/pytorch-geometric/lib/python3.10/site-packages/torch_geometric/utils/loop.py?line=220'>221</a>\u001b[0m         \u001b[39mraise\u001b[39;00m \u001b[39mAttributeError\u001b[39;00m(\u001b[39m\"\u001b[39m\u001b[39mNo valid \u001b[39m\u001b[39m'\u001b[39m\u001b[39mfill_value\u001b[39m\u001b[39m'\u001b[39m\u001b[39m provided\u001b[39m\u001b[39m\"\u001b[39m)\n\u001b[1;32m    <a href='file:///Users/nicibe/miniforge3/envs/pytorch-geometric/lib/python3.10/site-packages/torch_geometric/utils/loop.py?line=222'>223</a>\u001b[0m     inv_mask \u001b[39m=\u001b[39m \u001b[39m~\u001b[39mmask\n\u001b[0;32m--> <a href='file:///Users/nicibe/miniforge3/envs/pytorch-geometric/lib/python3.10/site-packages/torch_geometric/utils/loop.py?line=223'>224</a>\u001b[0m     loop_attr[edge_index[\u001b[39m0\u001b[39m][inv_mask]] \u001b[39m=\u001b[39m edge_attr[inv_mask]\n\u001b[1;32m    <a href='file:///Users/nicibe/miniforge3/envs/pytorch-geometric/lib/python3.10/site-packages/torch_geometric/utils/loop.py?line=225'>226</a>\u001b[0m     edge_attr \u001b[39m=\u001b[39m torch\u001b[39m.\u001b[39mcat([edge_attr[mask], loop_attr], dim\u001b[39m=\u001b[39m\u001b[39m0\u001b[39m)\n\u001b[1;32m    <a href='file:///Users/nicibe/miniforge3/envs/pytorch-geometric/lib/python3.10/site-packages/torch_geometric/utils/loop.py?line=227'>228</a>\u001b[0m edge_index \u001b[39m=\u001b[39m torch\u001b[39m.\u001b[39mcat([edge_index[:, mask], loop_index], dim\u001b[39m=\u001b[39m\u001b[39m1\u001b[39m)\n",
      "\u001b[0;31mIndexError\u001b[0m: tensors used as indices must be long, byte or bool tensors"
     ]
    }
   ],
   "source": [
    "model.train()\n",
    "for epoch in range(200):\n",
    "    optimizer.zero_grad()\n",
    "    out = model(data)\n",
    "    loss = F.mse_loss(out[data.train_mask], data.y[data.train_mask])\n",
    "    loss.backward()\n",
    "    optimizer.step()"
   ]
  }
 ],
 "metadata": {
  "interpreter": {
   "hash": "1990ffea95c28a0da7d348ffd8828ceb6f7452d4a084a6e9b3667ae6342ab6f8"
  },
  "kernelspec": {
   "display_name": "Python 3.10.4 ('pytorch-geometric')",
   "language": "python",
   "name": "python3"
  },
  "language_info": {
   "codemirror_mode": {
    "name": "ipython",
    "version": 3
   },
   "file_extension": ".py",
   "mimetype": "text/x-python",
   "name": "python",
   "nbconvert_exporter": "python",
   "pygments_lexer": "ipython3",
   "version": "3.10.4"
  },
  "orig_nbformat": 4
 },
 "nbformat": 4,
 "nbformat_minor": 2
}
